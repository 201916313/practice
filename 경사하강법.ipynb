{
 "cells": [
  {
   "cell_type": "code",
   "execution_count": 1,
   "id": "075d1fe0-162c-484e-813b-b01590da4be2",
   "metadata": {},
   "outputs": [],
   "source": [
    "import pandas as pd \n",
    "fish = pd.read_csv('https://bit.ly/fish_csv_data')\n",
    "fish_input = fish[['Weight', 'Length', 'Diagonal', 'Height', 'Width']].to_numpy()\n",
    "fish_target = fish['Species'].to_numpy()"
   ]
  },
  {
   "cell_type": "code",
   "execution_count": 2,
   "id": "f255c7a6-64f0-464f-acf3-6840bc9dba88",
   "metadata": {},
   "outputs": [
    {
     "data": {
      "text/html": [
       "<div>\n",
       "<style scoped>\n",
       "    .dataframe tbody tr th:only-of-type {\n",
       "        vertical-align: middle;\n",
       "    }\n",
       "\n",
       "    .dataframe tbody tr th {\n",
       "        vertical-align: top;\n",
       "    }\n",
       "\n",
       "    .dataframe thead th {\n",
       "        text-align: right;\n",
       "    }\n",
       "</style>\n",
       "<table border=\"1\" class=\"dataframe\">\n",
       "  <thead>\n",
       "    <tr style=\"text-align: right;\">\n",
       "      <th></th>\n",
       "      <th>Species</th>\n",
       "      <th>Weight</th>\n",
       "      <th>Length</th>\n",
       "      <th>Diagonal</th>\n",
       "      <th>Height</th>\n",
       "      <th>Width</th>\n",
       "    </tr>\n",
       "  </thead>\n",
       "  <tbody>\n",
       "    <tr>\n",
       "      <th>0</th>\n",
       "      <td>Bream</td>\n",
       "      <td>242.0</td>\n",
       "      <td>25.4</td>\n",
       "      <td>30.0</td>\n",
       "      <td>11.5200</td>\n",
       "      <td>4.0200</td>\n",
       "    </tr>\n",
       "    <tr>\n",
       "      <th>1</th>\n",
       "      <td>Bream</td>\n",
       "      <td>290.0</td>\n",
       "      <td>26.3</td>\n",
       "      <td>31.2</td>\n",
       "      <td>12.4800</td>\n",
       "      <td>4.3056</td>\n",
       "    </tr>\n",
       "    <tr>\n",
       "      <th>2</th>\n",
       "      <td>Bream</td>\n",
       "      <td>340.0</td>\n",
       "      <td>26.5</td>\n",
       "      <td>31.1</td>\n",
       "      <td>12.3778</td>\n",
       "      <td>4.6961</td>\n",
       "    </tr>\n",
       "    <tr>\n",
       "      <th>3</th>\n",
       "      <td>Bream</td>\n",
       "      <td>363.0</td>\n",
       "      <td>29.0</td>\n",
       "      <td>33.5</td>\n",
       "      <td>12.7300</td>\n",
       "      <td>4.4555</td>\n",
       "    </tr>\n",
       "    <tr>\n",
       "      <th>4</th>\n",
       "      <td>Bream</td>\n",
       "      <td>430.0</td>\n",
       "      <td>29.0</td>\n",
       "      <td>34.0</td>\n",
       "      <td>12.4440</td>\n",
       "      <td>5.1340</td>\n",
       "    </tr>\n",
       "    <tr>\n",
       "      <th>...</th>\n",
       "      <td>...</td>\n",
       "      <td>...</td>\n",
       "      <td>...</td>\n",
       "      <td>...</td>\n",
       "      <td>...</td>\n",
       "      <td>...</td>\n",
       "    </tr>\n",
       "    <tr>\n",
       "      <th>154</th>\n",
       "      <td>Smelt</td>\n",
       "      <td>12.2</td>\n",
       "      <td>12.2</td>\n",
       "      <td>13.4</td>\n",
       "      <td>2.0904</td>\n",
       "      <td>1.3936</td>\n",
       "    </tr>\n",
       "    <tr>\n",
       "      <th>155</th>\n",
       "      <td>Smelt</td>\n",
       "      <td>13.4</td>\n",
       "      <td>12.4</td>\n",
       "      <td>13.5</td>\n",
       "      <td>2.4300</td>\n",
       "      <td>1.2690</td>\n",
       "    </tr>\n",
       "    <tr>\n",
       "      <th>156</th>\n",
       "      <td>Smelt</td>\n",
       "      <td>12.2</td>\n",
       "      <td>13.0</td>\n",
       "      <td>13.8</td>\n",
       "      <td>2.2770</td>\n",
       "      <td>1.2558</td>\n",
       "    </tr>\n",
       "    <tr>\n",
       "      <th>157</th>\n",
       "      <td>Smelt</td>\n",
       "      <td>19.7</td>\n",
       "      <td>14.3</td>\n",
       "      <td>15.2</td>\n",
       "      <td>2.8728</td>\n",
       "      <td>2.0672</td>\n",
       "    </tr>\n",
       "    <tr>\n",
       "      <th>158</th>\n",
       "      <td>Smelt</td>\n",
       "      <td>19.9</td>\n",
       "      <td>15.0</td>\n",
       "      <td>16.2</td>\n",
       "      <td>2.9322</td>\n",
       "      <td>1.8792</td>\n",
       "    </tr>\n",
       "  </tbody>\n",
       "</table>\n",
       "<p>159 rows × 6 columns</p>\n",
       "</div>"
      ],
      "text/plain": [
       "    Species  Weight  Length  Diagonal   Height   Width\n",
       "0     Bream   242.0    25.4      30.0  11.5200  4.0200\n",
       "1     Bream   290.0    26.3      31.2  12.4800  4.3056\n",
       "2     Bream   340.0    26.5      31.1  12.3778  4.6961\n",
       "3     Bream   363.0    29.0      33.5  12.7300  4.4555\n",
       "4     Bream   430.0    29.0      34.0  12.4440  5.1340\n",
       "..      ...     ...     ...       ...      ...     ...\n",
       "154   Smelt    12.2    12.2      13.4   2.0904  1.3936\n",
       "155   Smelt    13.4    12.4      13.5   2.4300  1.2690\n",
       "156   Smelt    12.2    13.0      13.8   2.2770  1.2558\n",
       "157   Smelt    19.7    14.3      15.2   2.8728  2.0672\n",
       "158   Smelt    19.9    15.0      16.2   2.9322  1.8792\n",
       "\n",
       "[159 rows x 6 columns]"
      ]
     },
     "execution_count": 2,
     "metadata": {},
     "output_type": "execute_result"
    }
   ],
   "source": [
    "fish"
   ]
  },
  {
   "cell_type": "markdown",
   "id": "7e5286ec-bc4a-4fb8-b39b-3daeaabd58ea",
   "metadata": {},
   "source": [
    "pandas.dataframe을 numpy 형태로 바꾼거?"
   ]
  },
  {
   "cell_type": "code",
   "execution_count": 3,
   "id": "ce71d7eb-9cc7-423e-9331-da78781fe7af",
   "metadata": {},
   "outputs": [],
   "source": [
    "# 데이터 세트 나누기\n",
    "from sklearn.model_selection import train_test_split\n",
    "train_input, test_input, train_target, test_target = train_test_split(fish_input, fish_target, random_state=42)"
   ]
  },
  {
   "cell_type": "markdown",
   "id": "f4a7f128-9396-4724-9214-3fd8569b4650",
   "metadata": {
    "tags": []
   },
   "source": [
    "#### train_test_split의 파라미터\n",
    "\n",
    "- arrays : 분할시킬 데이터를 입력 (Python list, Numpy array, Pandas dataframe 등..)\n",
    "\n",
    "- test_size : 테스트 데이터셋의 비율(float)이나 갯수(int) (default = 0.25)\n",
    "\n",
    "- train_size : 학습 데이터셋의 비율(float)이나 갯수(int) (default = test_size의 나머지)\n",
    "\n",
    "- random_state : 데이터 분할시 셔플이 이루어지는데 이를 위한 시드값 (int나 RandomState로 입력)\n",
    "\n",
    "- shuffle : 셔플여부설정 (default = True)\n",
    "\n",
    "- stratify : 지정한 Data의 비율을 유지한다. 예를 들어, Label Set인 Y가 25%의 0과 75%의 1로 이루어진 Binary Set일 때, stratify=Y로 설정하면 나누어진 데이터셋들도 0과 1을 각각 25%, 75%로 유지한 채 분할된다.\n"
   ]
  },
  {
   "cell_type": "code",
   "execution_count": 4,
   "id": "c7e5699a-e04e-49f4-9579-73b8f5d359f4",
   "metadata": {},
   "outputs": [],
   "source": [
    "# 데이터 전처리\n",
    "from sklearn.preprocessing import StandardScaler\n",
    "ss = StandardScaler()\n",
    "ss.fit(train_input)\n",
    "train_scaled = ss.transform(train_input)\n",
    "test_scaled = ss.transform(test_input)"
   ]
  },
  {
   "cell_type": "markdown",
   "id": "0bebaaa4-14cc-4a4b-bbfc-a559f8e503fd",
   "metadata": {},
   "source": [
    "StandardScaler는 모든 피처들을 평균이 0, 분산이 1인 정규분포를 갖도록 만들어줍니다.(표준화 하는 방법)\n",
    "\n",
    "데이터 내에 이상치가 있다면 적절한 방법이 아닙니다"
   ]
  },
  {
   "cell_type": "markdown",
   "id": "b0a706c7-dea3-4b6f-9cac-ab947d2f65d3",
   "metadata": {},
   "source": [
    "ss.fit(train_input)은 train_input 데이터의 평균과 표준 편차를 계산하여 이 정보를 ss 객체에 저장합니다."
   ]
  },
  {
   "cell_type": "markdown",
   "id": "f1a55d07-cc99-4ba4-b078-028c49bf3a95",
   "metadata": {},
   "source": [
    "그 후 transform 매서드를 이용해 train_input을 표준 정규 분포로 변환"
   ]
  },
  {
   "cell_type": "code",
   "execution_count": null,
   "id": "1521b006-0ac4-4aeb-84d4-6b36cb925f5a",
   "metadata": {},
   "outputs": [],
   "source": []
  },
  {
   "cell_type": "code",
   "execution_count": null,
   "id": "c0cb791c-3977-4dba-9fb1-c114de4025e4",
   "metadata": {},
   "outputs": [],
   "source": []
  },
  {
   "cell_type": "markdown",
   "id": "db9e5405-5aca-484e-a3b9-eaa108e48c34",
   "metadata": {},
   "source": [
    "그다음 SDGClassifier 클래스를 불러서 모델을 학습시킨다. \n",
    "\n",
    "SDGClassifier는 손실함수를 의미하는 'loss'매개변수와 에포크 횟수(훈련 반복 횟수)를 의미하는 'max_iter'를 지정해야 한다.\n",
    "여기서는 loss에 log함수를 입력했고 max_iter에 10을 입력했다. \n",
    "\n",
    "loss 매개변수에서 log는 로지스틱 손실 함수를 의미한다. \n",
    "매개변수를 다 설정했다면 score함수를 이용해 정확도를 알아보면 된다"
   ]
  },
  {
   "cell_type": "code",
   "execution_count": 6,
   "id": "439426cc-cce3-4679-b24a-39fce7ea5aef",
   "metadata": {},
   "outputs": [
    {
     "name": "stdout",
     "output_type": "stream",
     "text": [
      "0.773109243697479\n",
      "0.775\n"
     ]
    },
    {
     "name": "stderr",
     "output_type": "stream",
     "text": [
      "C:\\Users\\byeongwan\\anaconda3\\lib\\site-packages\\sklearn\\linear_model\\_stochastic_gradient.py:574: ConvergenceWarning: Maximum number of iteration reached before convergence. Consider increasing max_iter to improve the fit.\n",
      "  warnings.warn(\"Maximum number of iteration reached before \"\n"
     ]
    }
   ],
   "source": [
    "# SDGClassifier 모델 학습\n",
    "from sklearn.linear_model import SGDClassifier\n",
    "sc = SGDClassifier(loss='log', max_iter=10, random_state=42)\n",
    "sc.fit(train_scaled, train_target)\n",
    "print(sc.score(train_scaled, train_target))\n",
    "print(sc.score(test_scaled, test_target))"
   ]
  },
  {
   "cell_type": "markdown",
   "id": "ea36229f-1267-45fd-9378-2c1f3cb6a2c4",
   "metadata": {},
   "source": [
    "정확도를 확인한 이후 에포크를 한 번 더 실행하고자 한다면 'partial_fit'을 이용하면 된다.\n",
    "\n",
    "partial_fit은 fit과 동일한 역할을 하지만 모델을 처음부터 학습시키는 것이 아니라 기존의 실행했던 에포크 횟수에서 1회씩 추가적으로 학습하게 한다."
   ]
  },
  {
   "cell_type": "code",
   "execution_count": 7,
   "id": "61468969-0d38-49e9-8285-7d973680d718",
   "metadata": {},
   "outputs": [
    {
     "name": "stdout",
     "output_type": "stream",
     "text": [
      "0.8151260504201681\n",
      "0.85\n"
     ]
    }
   ],
   "source": [
    "# 에포크 횟수 1회 추가\n",
    "sc.partial_fit(train_scaled, train_target)\n",
    "print(sc.score(train_scaled, train_target))\n",
    "print(sc.score(test_scaled, test_target))"
   ]
  },
  {
   "cell_type": "markdown",
   "id": "3971061f-e5a1-4c83-aabb-70a4248d3fec",
   "metadata": {},
   "source": [
    "하지만 매번 1회씩 에포크를 늘리면서 최적의 학습 횟수를 찾기가 번거로울 뿐만 아니라 자칫하면 모델이 과대적합이 될 수 있다.\n",
    "\n",
    "따라서 이전에 라쏘회귀와 릿지회귀 때 규제 강도를 조절하면서 최적의 규제 강도를 찾았던 거처럼, 에포크도 횟수에 따라 정확도가 어떻게 변하는 지 알아보는 것이 좋다."
   ]
  },
  {
   "cell_type": "code",
   "execution_count": 8,
   "id": "272f8f8b-4184-4673-afa2-c3af9feeca03",
   "metadata": {},
   "outputs": [
    {
     "data": {
      "image/png": "[encoded data removed]",
      "text/plain": [
       "<Figure size 432x288 with 1 Axes>"
      ]
     },
     "metadata": {
      "needs_background": "light"
     },
     "output_type": "display_data"
    }
   ],
   "source": [
    "# 최적의 에포크 횟수 찾기\n",
    "import numpy as np \n",
    "sc = SGDClassifier(loss='log', random_state=42)\n",
    "train_score = []\n",
    "test_score = []\n",
    "classes = np.unique(train_target)\n",
    "\n",
    "for _ in range(0, 300) :\n",
    "    sc.partial_fit(train_scaled, train_target, classes=classes)\n",
    "    train_score.append(sc.score(train_scaled, train_target))\n",
    "    test_score.append(sc.score(test_scaled, test_target))\n",
    "\n",
    "import matplotlib.pyplot as plt \n",
    "plt.plot(train_score)\n",
    "plt.plot(test_score)\n",
    "plt.xlabel('epoch')\n",
    "plt.ylabel('accuracy')\n",
    "plt.show()"
   ]
  },
  {
   "cell_type": "markdown",
   "id": "8c164d9a-12a4-4506-b35c-a586819386b6",
   "metadata": {},
   "source": [
    "코드로 실현된 그래프를 보면 \n",
    "약 60 ~ 70회 정도까지는 테스트와 훈련 데이터 간의 정확도가 차이가 크게 차이나고 있지 않다가 120~130회쯤 정확도가 점점 벌어지고 있다. \n",
    "\n",
    "따라서 대략적으로 에포크 횟수를 100으로 지정하면 좋겠다는 판단을 내리면 된다.\n"
   ]
  },
  {
   "cell_type": "markdown",
   "id": "583db5ea-7dfa-443c-ac73-51774d355f4c",
   "metadata": {},
   "source": [
    "https://m.blog.naver.com/psycomaniac/222487950329"
   ]
  },
  {
   "cell_type": "code",
   "execution_count": null,
   "id": "79573416-6bda-434a-917a-8b2919d16de4",
   "metadata": {},
   "outputs": [],
   "source": []
  }
 ],
 "metadata": {
  "kernelspec": {
   "display_name": "Python 3 (ipykernel)",
   "language": "python",
   "name": "python3"
  },
  "language_info": {
   "codemirror_mode": {
    "name": "ipython",
    "version": 3
   },
   "file_extension": ".py",
   "mimetype": "text/x-python",
   "name": "python",
   "nbconvert_exporter": "python",
   "pygments_lexer": "ipython3",
   "version": "3.9.7"
  }
 },
 "nbformat": 4,
 "nbformat_minor": 5
}
