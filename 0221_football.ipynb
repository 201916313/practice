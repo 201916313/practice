{
 "cells": [
  {
   "cell_type": "code",
   "execution_count": 2,
   "id": "e2b22b8c-af97-48dc-af0f-658653a5371e",
   "metadata": {},
   "outputs": [
    {
     "data": {
      "text/html": [
       "        <script type=\"text/javascript\">\n",
       "        window.PlotlyConfig = {MathJaxConfig: 'local'};\n",
       "        if (window.MathJax && window.MathJax.Hub && window.MathJax.Hub.Config) {window.MathJax.Hub.Config({SVG: {font: \"STIX-Web\"}});}\n",
       "        if (typeof require !== 'undefined') {\n",
       "        require.undef(\"plotly\");\n",
       "        requirejs.config({\n",
       "            paths: {\n",
       "                'plotly': ['https://cdn.plot.ly/plotly-2.27.0.min']\n",
       "            }\n",
       "        });\n",
       "        require(['plotly'], function(Plotly) {\n",
       "            window._Plotly = Plotly;\n",
       "        });\n",
       "        }\n",
       "        </script>\n",
       "        "
      ]
     },
     "metadata": {},
     "output_type": "display_data"
    }
   ],
   "source": [
    "# This Python 3 environment comes with many helpful analytics libraries installed\n",
    "# It is defined by the kaggle/python docker image: https://github.com/kaggle/docker-python\n",
    "# For example, here's several helpful packages to load in \n",
    "\n",
    "import numpy as np # linear algebra\n",
    "import pandas as pd # data processing, CSV file I/O (e.g. pd.read_csv)\n",
    "\n",
    "import random\n",
    "import seaborn as sns\n",
    "import matplotlib.pyplot as plt\n",
    "%matplotlib inline\n",
    "from plotly.offline import download_plotlyjs, init_notebook_mode, plot, iplot\n",
    "import plotly.offline as py\n",
    "py.init_notebook_mode(connected=True)\n",
    "import plotly.graph_objs as go\n"
   ]
  },
  {
   "cell_type": "code",
   "execution_count": 4,
   "id": "bd449a17-ab95-46da-969f-96122f14963d",
   "metadata": {},
   "outputs": [],
   "source": [
    "df_events = pd.read_csv(\"C:/Users/byeongwan/OneDrive/desktop/archive/events.csv\")\n",
    "df_ginf = pd.read_csv(\"C:/Users/byeongwan/OneDrive/desktop/archive/ginf.csv\")"
   ]
  },
  {
   "cell_type": "code",
   "execution_count": 5,
   "id": "9104f7c7-2e48-4d55-95f9-371f1410cd60",
   "metadata": {},
   "outputs": [],
   "source": [
    "df_ginf = df_ginf[['id_odsp', 'date', 'league', 'season', 'country']]"
   ]
  },
  {
   "cell_type": "code",
   "execution_count": 7,
   "id": "4653ef77-8ede-4e1d-ba9e-6bb75d3509fb",
   "metadata": {},
   "outputs": [],
   "source": [
    "df_events = df_events.merge(df_ginf, how='left')"
   ]
  },
  {
   "cell_type": "code",
   "execution_count": 8,
   "id": "7105fa7a-f8ed-4316-b348-5da477d4a9dc",
   "metadata": {},
   "outputs": [],
   "source": [
    "df_events = df_events[df_events['season'] >= 2015]"
   ]
  },
  {
   "cell_type": "code",
   "execution_count": 9,
   "id": "552a8ec4-4256-4f32-9801-0510d14722d0",
   "metadata": {},
   "outputs": [],
   "source": [
    "leagues = {'E0': 'Premier League', 'SP1': 'La Liga',\n",
    "          'I1': 'Serie A', 'F1': 'League One', 'D1': 'Bundesliga'}"
   ]
  },
  {
   "cell_type": "code",
   "execution_count": 10,
   "id": "565138f9-7ca1-4d7d-a370-f206785f03e4",
   "metadata": {},
   "outputs": [],
   "source": [
    "df_events['league'] = df_events['league'].map(leagues)"
   ]
  },
  {
   "cell_type": "code",
   "execution_count": 11,
   "id": "e451e970-f398-4ba4-98a4-f7a0f42ab873",
   "metadata": {},
   "outputs": [],
   "source": [
    "## Events type 1\n",
    "event_type_1 = pd.Series([\n",
    "    'Announcement',\n",
    "    'Attempt',\n",
    "    'Corner',\n",
    "    'Foul',\n",
    "    'Yellow card',\n",
    "    'Second yellow card',\n",
    "    'Red card',\n",
    "    'Substitution',\n",
    "    'Free kick won',\n",
    "    'Offside',\n",
    "    'Hand ball',\n",
    "    'Penalty conceded'], index=[[item for item in range(0, 12)]])\n",
    "\n",
    "## Events type 2\n",
    "event_type2 = pd.Series(['Key Pass', 'Failed through ball', 'Sending off', 'Own goal'],\n",
    "                       index=[[item for item in range(12, 16)]])\n",
    "\n",
    "## Match side\n",
    "side = pd.Series(['Home', 'Away'], index=[[item for item in range(1, 3)]])\n",
    "\n",
    "## Shot place\n",
    "shot_place = pd.Series([\n",
    "    'Bit too high', \n",
    "    'Blocked',\n",
    "    'Bottom left corner',\n",
    "    'Bottom right corner',\n",
    "    'Centre of the goal',\n",
    "    'High and wide',\n",
    "    'Hits the bar',\n",
    "    'Misses to the left',\n",
    "    'Misses to the right',\n",
    "    'Too high',\n",
    "    'Top centre of the goal',\n",
    "    'Top left corner',\n",
    "    'Top right corner'\n",
    "], index=[[item for item in range(1, 14)]])\n",
    "\n",
    "## Outcome of shot\n",
    "shot_outcome = pd.Series(['On target', 'Off target', 'Blocked', 'Hit the bar'],\n",
    "                        index=[[item for item in range(1, 5)]])\n",
    "## Location of shot\n",
    "location = pd.Series([\n",
    "    'Attacking half',\n",
    "    'Defensive half',\n",
    "    'Centre of the box',\n",
    "    'Left wing',\n",
    "    'Right wing',\n",
    "    'Difficult angle and long range',\n",
    "    'Difficult angle on the left',\n",
    "    'Difficult angle on the right',\n",
    "    'Left side of the box',\n",
    "    'Left side of the six yard box',\n",
    "    'Right side of the box',\n",
    "    'Right side of the six yard box',\n",
    "    'Very close range',\n",
    "    'Penalty spot',\n",
    "    'Outside the box',\n",
    "    'Long range',\n",
    "    'More than 35 yards',\n",
    "    'More than 40 yards',\n",
    "    'Not recorded'\n",
    "], \n",
    "index=[[item for item in range(1, 20)]])\n",
    "\n",
    "## Players' body part\n",
    "bodypart = pd.Series(['right foot', 'left foot', 'head'], index=[[item for item in range(1, 4)]])\n",
    "\n",
    "## Assist method\n",
    "assist_method = pd.Series(['None', 'Pass', 'Cross', 'Headed pass', 'Through ball'],\n",
    "                         index=[item for item in range(0, 5)])\n",
    "\n",
    "## Situation\n",
    "situation = pd.Series(['Open play', 'Set piece', 'Corner', 'Free kick'],\n",
    "                     index=[item for item in range(1, 5)])"
   ]
  },
  {
   "cell_type": "code",
   "execution_count": 12,
   "id": "9c1f5476-9222-402f-a97b-cb9eff538ef3",
   "metadata": {},
   "outputs": [],
   "source": [
    "## Utility function to plot bar plots with similar configuration\n",
    "def plot_barplot(data, x_ticks, x_labels, y_labels, title, color='muted', num=10, figsize=8):\n",
    "    ## Set standard style as whitegrid (this also could be customized via param)\n",
    "    sns.set_style(\"whitegrid\")\n",
    "    ## Set a figure with custom figsize\n",
    "    plt.figure(figsize=(num, figsize))\n",
    "    ## Plottin data\n",
    "    ax = sns.barplot(x = [j for j in range(0, len(data))], y=data.values, palette=color)\n",
    "    ## Setting ticks extracted from data indexes\n",
    "    ax.set_xticks([j for j in range(0, len(data))])\n",
    "    ## Set labels of the chart\n",
    "    ax.set_xticklabels(x_ticks, rotation=45)\n",
    "    ax.set(xlabel = x_labels, ylabel = y_labels, title = title)\n",
    "    ax.plot();\n",
    "    plt.tight_layout()"
   ]
  },
  {
   "cell_type": "code",
   "execution_count": 13,
   "id": "a762e842-1b9f-4531-9660-6c49cafd68fa",
   "metadata": {},
   "outputs": [
    {
     "name": "stderr",
     "output_type": "stream",
     "text": [
      "C:\\Users\\BYEONG~1\\AppData\\Local\\Temp/ipykernel_19260/3121962416.py:8: FutureWarning:\n",
      "\n",
      "\n",
      "\n",
      "Passing `palette` without assigning `hue` is deprecated and will be removed in v0.14.0. Assign the `x` variable to `hue` and set `legend=False` for the same effect.\n",
      "\n",
      "\n"
     ]
    },
    {
     "ename": "ValueError",
     "evalue": "The number of FixedLocator locations (11), usually from a call to set_ticks, does not match the number of ticklabels (12).",
     "output_type": "error",
     "traceback": [
      "\u001b[1;31m---------------------------------------------------------------------------\u001b[0m",
      "\u001b[1;31mValueError\u001b[0m                                Traceback (most recent call last)",
      "\u001b[1;32mC:\\Users\\BYEONG~1\\AppData\\Local\\Temp/ipykernel_19260/848621318.py\u001b[0m in \u001b[0;36m<module>\u001b[1;34m\u001b[0m\n\u001b[0;32m      3\u001b[0m \u001b[1;33m\u001b[0m\u001b[0m\n\u001b[0;32m      4\u001b[0m \u001b[1;31m## Plotting chart\u001b[0m\u001b[1;33m\u001b[0m\u001b[1;33m\u001b[0m\u001b[0m\n\u001b[1;32m----> 5\u001b[1;33m plot_barplot(events_series, event_type_1.values,\n\u001b[0m\u001b[0;32m      6\u001b[0m             \"Event type\", \"Number of events\", \"Event types\", 'OrRd_r', 10, 5)\n",
      "\u001b[1;32mC:\\Users\\BYEONG~1\\AppData\\Local\\Temp/ipykernel_19260/3121962416.py\u001b[0m in \u001b[0;36mplot_barplot\u001b[1;34m(data, x_ticks, x_labels, y_labels, title, color, num, figsize)\u001b[0m\n\u001b[0;32m     10\u001b[0m     \u001b[0max\u001b[0m\u001b[1;33m.\u001b[0m\u001b[0mset_xticks\u001b[0m\u001b[1;33m(\u001b[0m\u001b[1;33m[\u001b[0m\u001b[0mj\u001b[0m \u001b[1;32mfor\u001b[0m \u001b[0mj\u001b[0m \u001b[1;32min\u001b[0m \u001b[0mrange\u001b[0m\u001b[1;33m(\u001b[0m\u001b[1;36m0\u001b[0m\u001b[1;33m,\u001b[0m \u001b[0mlen\u001b[0m\u001b[1;33m(\u001b[0m\u001b[0mdata\u001b[0m\u001b[1;33m)\u001b[0m\u001b[1;33m)\u001b[0m\u001b[1;33m]\u001b[0m\u001b[1;33m)\u001b[0m\u001b[1;33m\u001b[0m\u001b[1;33m\u001b[0m\u001b[0m\n\u001b[0;32m     11\u001b[0m     \u001b[1;31m## Set labels of the chart\u001b[0m\u001b[1;33m\u001b[0m\u001b[1;33m\u001b[0m\u001b[0m\n\u001b[1;32m---> 12\u001b[1;33m     \u001b[0max\u001b[0m\u001b[1;33m.\u001b[0m\u001b[0mset_xticklabels\u001b[0m\u001b[1;33m(\u001b[0m\u001b[0mx_ticks\u001b[0m\u001b[1;33m,\u001b[0m \u001b[0mrotation\u001b[0m\u001b[1;33m=\u001b[0m\u001b[1;36m45\u001b[0m\u001b[1;33m)\u001b[0m\u001b[1;33m\u001b[0m\u001b[1;33m\u001b[0m\u001b[0m\n\u001b[0m\u001b[0;32m     13\u001b[0m     \u001b[0max\u001b[0m\u001b[1;33m.\u001b[0m\u001b[0mset\u001b[0m\u001b[1;33m(\u001b[0m\u001b[0mxlabel\u001b[0m \u001b[1;33m=\u001b[0m \u001b[0mx_labels\u001b[0m\u001b[1;33m,\u001b[0m \u001b[0mylabel\u001b[0m \u001b[1;33m=\u001b[0m \u001b[0my_labels\u001b[0m\u001b[1;33m,\u001b[0m \u001b[0mtitle\u001b[0m \u001b[1;33m=\u001b[0m \u001b[0mtitle\u001b[0m\u001b[1;33m)\u001b[0m\u001b[1;33m\u001b[0m\u001b[1;33m\u001b[0m\u001b[0m\n\u001b[0;32m     14\u001b[0m     \u001b[0max\u001b[0m\u001b[1;33m.\u001b[0m\u001b[0mplot\u001b[0m\u001b[1;33m(\u001b[0m\u001b[1;33m)\u001b[0m\u001b[1;33m;\u001b[0m\u001b[1;33m\u001b[0m\u001b[1;33m\u001b[0m\u001b[0m\n",
      "\u001b[1;32m~\\anaconda3\\lib\\site-packages\\matplotlib\\axes\\_base.py\u001b[0m in \u001b[0;36mwrapper\u001b[1;34m(self, *args, **kwargs)\u001b[0m\n\u001b[0;32m     71\u001b[0m \u001b[1;33m\u001b[0m\u001b[0m\n\u001b[0;32m     72\u001b[0m         \u001b[1;32mdef\u001b[0m \u001b[0mwrapper\u001b[0m\u001b[1;33m(\u001b[0m\u001b[0mself\u001b[0m\u001b[1;33m,\u001b[0m \u001b[1;33m*\u001b[0m\u001b[0margs\u001b[0m\u001b[1;33m,\u001b[0m \u001b[1;33m**\u001b[0m\u001b[0mkwargs\u001b[0m\u001b[1;33m)\u001b[0m\u001b[1;33m:\u001b[0m\u001b[1;33m\u001b[0m\u001b[1;33m\u001b[0m\u001b[0m\n\u001b[1;32m---> 73\u001b[1;33m             \u001b[1;32mreturn\u001b[0m \u001b[0mget_method\u001b[0m\u001b[1;33m(\u001b[0m\u001b[0mself\u001b[0m\u001b[1;33m)\u001b[0m\u001b[1;33m(\u001b[0m\u001b[1;33m*\u001b[0m\u001b[0margs\u001b[0m\u001b[1;33m,\u001b[0m \u001b[1;33m**\u001b[0m\u001b[0mkwargs\u001b[0m\u001b[1;33m)\u001b[0m\u001b[1;33m\u001b[0m\u001b[1;33m\u001b[0m\u001b[0m\n\u001b[0m\u001b[0;32m     74\u001b[0m \u001b[1;33m\u001b[0m\u001b[0m\n\u001b[0;32m     75\u001b[0m         \u001b[0mwrapper\u001b[0m\u001b[1;33m.\u001b[0m\u001b[0m__module__\u001b[0m \u001b[1;33m=\u001b[0m \u001b[0mowner\u001b[0m\u001b[1;33m.\u001b[0m\u001b[0m__module__\u001b[0m\u001b[1;33m\u001b[0m\u001b[1;33m\u001b[0m\u001b[0m\n",
      "\u001b[1;32m~\\anaconda3\\lib\\site-packages\\matplotlib\\_api\\deprecation.py\u001b[0m in \u001b[0;36mwrapper\u001b[1;34m(*args, **kwargs)\u001b[0m\n\u001b[0;32m    469\u001b[0m                 \u001b[1;34m\"parameter will become keyword-only %(removal)s.\"\u001b[0m\u001b[1;33m,\u001b[0m\u001b[1;33m\u001b[0m\u001b[1;33m\u001b[0m\u001b[0m\n\u001b[0;32m    470\u001b[0m                 name=name, obj_type=f\"parameter of {func.__name__}()\")\n\u001b[1;32m--> 471\u001b[1;33m         \u001b[1;32mreturn\u001b[0m \u001b[0mfunc\u001b[0m\u001b[1;33m(\u001b[0m\u001b[1;33m*\u001b[0m\u001b[0margs\u001b[0m\u001b[1;33m,\u001b[0m \u001b[1;33m**\u001b[0m\u001b[0mkwargs\u001b[0m\u001b[1;33m)\u001b[0m\u001b[1;33m\u001b[0m\u001b[1;33m\u001b[0m\u001b[0m\n\u001b[0m\u001b[0;32m    472\u001b[0m \u001b[1;33m\u001b[0m\u001b[0m\n\u001b[0;32m    473\u001b[0m     \u001b[1;32mreturn\u001b[0m \u001b[0mwrapper\u001b[0m\u001b[1;33m\u001b[0m\u001b[1;33m\u001b[0m\u001b[0m\n",
      "\u001b[1;32m~\\anaconda3\\lib\\site-packages\\matplotlib\\axis.py\u001b[0m in \u001b[0;36m_set_ticklabels\u001b[1;34m(self, labels, fontdict, minor, **kwargs)\u001b[0m\n\u001b[0;32m   1793\u001b[0m         \u001b[1;32mif\u001b[0m \u001b[0mfontdict\u001b[0m \u001b[1;32mis\u001b[0m \u001b[1;32mnot\u001b[0m \u001b[1;32mNone\u001b[0m\u001b[1;33m:\u001b[0m\u001b[1;33m\u001b[0m\u001b[1;33m\u001b[0m\u001b[0m\n\u001b[0;32m   1794\u001b[0m             \u001b[0mkwargs\u001b[0m\u001b[1;33m.\u001b[0m\u001b[0mupdate\u001b[0m\u001b[1;33m(\u001b[0m\u001b[0mfontdict\u001b[0m\u001b[1;33m)\u001b[0m\u001b[1;33m\u001b[0m\u001b[1;33m\u001b[0m\u001b[0m\n\u001b[1;32m-> 1795\u001b[1;33m         \u001b[1;32mreturn\u001b[0m \u001b[0mself\u001b[0m\u001b[1;33m.\u001b[0m\u001b[0mset_ticklabels\u001b[0m\u001b[1;33m(\u001b[0m\u001b[0mlabels\u001b[0m\u001b[1;33m,\u001b[0m \u001b[0mminor\u001b[0m\u001b[1;33m=\u001b[0m\u001b[0mminor\u001b[0m\u001b[1;33m,\u001b[0m \u001b[1;33m**\u001b[0m\u001b[0mkwargs\u001b[0m\u001b[1;33m)\u001b[0m\u001b[1;33m\u001b[0m\u001b[1;33m\u001b[0m\u001b[0m\n\u001b[0m\u001b[0;32m   1796\u001b[0m \u001b[1;33m\u001b[0m\u001b[0m\n\u001b[0;32m   1797\u001b[0m     \u001b[1;32mdef\u001b[0m \u001b[0mset_ticks\u001b[0m\u001b[1;33m(\u001b[0m\u001b[0mself\u001b[0m\u001b[1;33m,\u001b[0m \u001b[0mticks\u001b[0m\u001b[1;33m,\u001b[0m \u001b[1;33m*\u001b[0m\u001b[1;33m,\u001b[0m \u001b[0mminor\u001b[0m\u001b[1;33m=\u001b[0m\u001b[1;32mFalse\u001b[0m\u001b[1;33m)\u001b[0m\u001b[1;33m:\u001b[0m\u001b[1;33m\u001b[0m\u001b[1;33m\u001b[0m\u001b[0m\n",
      "\u001b[1;32m~\\anaconda3\\lib\\site-packages\\matplotlib\\axis.py\u001b[0m in \u001b[0;36mset_ticklabels\u001b[1;34m(self, ticklabels, minor, **kwargs)\u001b[0m\n\u001b[0;32m   1714\u001b[0m             \u001b[1;31m# remove all tick labels, so only error for > 0 ticklabels\u001b[0m\u001b[1;33m\u001b[0m\u001b[1;33m\u001b[0m\u001b[0m\n\u001b[0;32m   1715\u001b[0m             \u001b[1;32mif\u001b[0m \u001b[0mlen\u001b[0m\u001b[1;33m(\u001b[0m\u001b[0mlocator\u001b[0m\u001b[1;33m.\u001b[0m\u001b[0mlocs\u001b[0m\u001b[1;33m)\u001b[0m \u001b[1;33m!=\u001b[0m \u001b[0mlen\u001b[0m\u001b[1;33m(\u001b[0m\u001b[0mticklabels\u001b[0m\u001b[1;33m)\u001b[0m \u001b[1;32mand\u001b[0m \u001b[0mlen\u001b[0m\u001b[1;33m(\u001b[0m\u001b[0mticklabels\u001b[0m\u001b[1;33m)\u001b[0m \u001b[1;33m!=\u001b[0m \u001b[1;36m0\u001b[0m\u001b[1;33m:\u001b[0m\u001b[1;33m\u001b[0m\u001b[1;33m\u001b[0m\u001b[0m\n\u001b[1;32m-> 1716\u001b[1;33m                 raise ValueError(\n\u001b[0m\u001b[0;32m   1717\u001b[0m                     \u001b[1;34m\"The number of FixedLocator locations\"\u001b[0m\u001b[1;33m\u001b[0m\u001b[1;33m\u001b[0m\u001b[0m\n\u001b[0;32m   1718\u001b[0m                     \u001b[1;34mf\" ({len(locator.locs)}), usually from a call to\"\u001b[0m\u001b[1;33m\u001b[0m\u001b[1;33m\u001b[0m\u001b[0m\n",
      "\u001b[1;31mValueError\u001b[0m: The number of FixedLocator locations (11), usually from a call to set_ticks, does not match the number of ticklabels (12)."
     ]
    },
    {
     "data": {
      "image/png": "[encoded data removed]",
      "text/plain": [
       "<Figure size 720x360 with 1 Axes>"
      ]
     },
     "metadata": {},
     "output_type": "display_data"
    }
   ],
   "source": [
    "## Count of events occurecies\n",
    "events_series = df_events['event_type'].value_counts()\n",
    "\n",
    "## Plotting chart \n",
    "plot_barplot(events_series, event_type_1.values,\n",
    "            \"Event type\", \"Number of events\", \"Event types\", 'OrRd_r', 10, 5)"
   ]
  },
  {
   "cell_type": "code",
   "execution_count": 14,
   "id": "c72d1a14-e905-46a8-8936-cc41fa5efada",
   "metadata": {},
   "outputs": [
    {
     "name": "stderr",
     "output_type": "stream",
     "text": [
      "C:\\Users\\BYEONG~1\\AppData\\Local\\Temp/ipykernel_19260/3121962416.py:8: FutureWarning:\n",
      "\n",
      "\n",
      "\n",
      "Passing `palette` without assigning `hue` is deprecated and will be removed in v0.14.0. Assign the `x` variable to `hue` and set `legend=False` for the same effect.\n",
      "\n",
      "\n"
     ]
    },
    {
     "data": {
      "image/png": "[encoded data removed]",
      "text/plain": [
       "<Figure size 576x360 with 1 Axes>"
      ]
     },
     "metadata": {},
     "output_type": "display_data"
    }
   ],
   "source": [
    "## Filtering out dataframe to extract attemtps which resulted in goals\n",
    "df_shot_places = df_events[(df_events['event_type'] == 1) & \n",
    "                           (df_events['is_goal'] == 1)]['shot_place'].value_counts()\n",
    "\n",
    "## Plotting the chart\n",
    "plot_barplot(df_shot_places, shot_place[[3, 4, 5, 13, 12]], 'Shot places', 'Number of events',\n",
    "    'Shot places resulting in goals', 'BuGn_r', 8, 5)"
   ]
  },
  {
   "cell_type": "code",
   "execution_count": 15,
   "id": "fe0ded36-f4bc-4c95-aa53-0cbb5939842b",
   "metadata": {},
   "outputs": [
    {
     "name": "stderr",
     "output_type": "stream",
     "text": [
      "C:\\Users\\BYEONG~1\\AppData\\Local\\Temp/ipykernel_19260/3121962416.py:8: FutureWarning:\n",
      "\n",
      "\n",
      "\n",
      "Passing `palette` without assigning `hue` is deprecated and will be removed in v0.14.0. Assign the `x` variable to `hue` and set `legend=False` for the same effect.\n",
      "\n",
      "\n"
     ]
    },
    {
     "data": {
      "image/png": "[encoded data removed]",
      "text/plain": [
       "<Figure size 576x360 with 1 Axes>"
      ]
     },
     "metadata": {},
     "output_type": "display_data"
    }
   ],
   "source": [
    "## Copying original dataframe\n",
    "df_shot_places_ed = df_events.copy()\n",
    "\n",
    "## Grouping data by shot places\n",
    "df_shot_places_ed = df_events.groupby('shot_place', as_index=False).count().sort_values('id_event',\n",
    "                                                   ascending=False).dropna()\n",
    "\n",
    "## Mapping dataframe index to shot places labels available in the dictionary file\n",
    "df_shot_places_ed['shot_place'] = df_shot_places_ed['shot_place'].map(shot_place)\n",
    "\n",
    "## Plotting the chart\n",
    "plot_barplot(df_shot_places_ed['id_event'], df_shot_places_ed['shot_place'],\n",
    "             'Shot places',\n",
    "             'Number of events',\n",
    "             'Shot places',\n",
    "             'BuGn_r', 8, 5)"
   ]
  },
  {
   "cell_type": "code",
   "execution_count": null,
   "id": "d59419eb-a1c7-46a6-b5bb-3d28b126d1e0",
   "metadata": {},
   "outputs": [],
   "source": []
  }
 ],
 "metadata": {
  "kernelspec": {
   "display_name": "Python 3 (ipykernel)",
   "language": "python",
   "name": "python3"
  },
  "language_info": {
   "codemirror_mode": {
    "name": "ipython",
    "version": 3
   },
   "file_extension": ".py",
   "mimetype": "text/x-python",
   "name": "python",
   "nbconvert_exporter": "python",
   "pygments_lexer": "ipython3",
   "version": "3.9.7"
  }
 },
 "nbformat": 4,
 "nbformat_minor": 5
}
