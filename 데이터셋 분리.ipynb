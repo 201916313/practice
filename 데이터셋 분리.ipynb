{
 "cells": [
  {
   "cell_type": "markdown",
   "id": "89dd1397-e4e1-48b4-886d-831db6c31e5d",
   "metadata": {},
   "source": [
    "# Daily 파이썬"
   ]
  },
  {
   "cell_type": "markdown",
   "id": "d52031ab-425c-4ca4-b390-da77c1783363",
   "metadata": {},
   "source": [
    "오늘은 파이썬에서 데이터 세트를 '훈련 세트'와 '테스트 세트'로 나누는 방법에 대해 알아볼 것이다.\n",
    "\n",
    "train_test_split 함수를 이용해서 기존 데이터를 훈련 세트와 테스트 세트로 나누는 방법에 대해 알아보자."
   ]
  },
  {
   "cell_type": "markdown",
   "id": "f80f5e6c-50ce-4f40-aace-5d48116723f7",
   "metadata": {},
   "source": [
    "## 데이터 준비"
   ]
  },
  {
   "cell_type": "markdown",
   "id": "6f998475-dcf8-4970-9e26-ad9909ac61c6",
   "metadata": {},
   "source": [
    "이 포스팅에서 사용하는 데이터는 이전 포스팅에서도 사용했던\n",
    "\n",
    "도미, 빙어 데이터이다. 데이터는 아래와 같다.\n",
    "\n",
    "각각 생선 종류별, 특성별로 분리되어 있던 데이터를 \n",
    "\n",
    "특성을 기준으로 전체 무게(total_weight), 전체 길이(total_length)로 합쳤다. "
   ]
  },
  {
   "cell_type": "code",
   "execution_count": 2,
   "id": "bce6a372-d6b2-4d55-828b-f668100a4361",
   "metadata": {},
   "outputs": [],
   "source": [
    "#도미의 길이\n",
    "bream_length = [25.4, 26.3, 26.5, 29.0, 29.0, 29.7, 29.7, 30.0, 30.0, 30.7, 31.0, 31.0, \n",
    "                31.5, 32.0, 32.0, 32.0, 33.0, 33.0, 33.5, 33.5, 34.0, 34.0, 34.5, 35.0, \n",
    "                35.0, 35.0, 35.0, 36.0, 36.0, 37.0, 38.5, 38.5, 39.5, 41.0, 41.0]\n",
    "#도미의 무게\n",
    "bream_weight = [242.0, 290.0, 340.0, 363.0, 430.0, 450.0, 500.0, 390.0, 450.0, 500.0, 475.0, 500.0, \n",
    "                500.0, 340.0, 600.0, 600.0, 700.0, 700.0, 610.0, 650.0, 575.0, 685.0, 620.0, 680.0, \n",
    "                700.0, 725.0, 720.0, 714.0, 850.0, 1000.0, 920.0, 955.0, 925.0, 975.0, 950.0]\n",
    "#빙어의 길이\n",
    "smelt_length = [9.8, 10.5, 10.6, 11.0, 11.2, 11.3, 11.8, 11.8, 12.0, 12.2, 12.4, 13.0, 14.3, 15.0]\n",
    "\n",
    "#빙어의 무게\n",
    "smelt_weight = [6.7, 7.5, 7.0, 9.7, 9.8, 8.7, 10.0, 9.9, 9.8, 12.2, 13.4, 12.2, 19.7, 19.9]\n",
    "\n",
    "# 두 어류 데이터 합치기\n",
    "total_length = bream_length + smelt_length\n",
    "total_weight = bream_weight + smelt_weight"
   ]
  },
  {
   "cell_type": "markdown",
   "id": "335de129-74dc-4cfc-8537-98bb281393ac",
   "metadata": {},
   "source": [
    "그 다음 numpy를 이용해서 2차원 데이터로 만들었고,\n",
    "\n",
    "분류를 위해 도미에 '1'을, 빙어에 '0'을 부여한 타겟 데이터도 numpy로 만들었다.\n",
    "\n",
    "'column_stack'함수는 함수명 그대로 열을 쌓아주는 함수이다.\n",
    "\n",
    "즉, 전달받은 리스트들을 각각 열로 만든다. \n",
    "\n",
    "예를 들어 '[1,2,3,4]'리스트와 '[5,6,7,8]'리스트를 column_stack으로 합치면\n",
    "\n",
    "아래와 같은 결과가 나온다.\n",
    "\n",
    "     array([[1, 5],\n",
    "\n",
    "            [2, 6],\n",
    "\n",
    "            [3, 7],\n",
    "\n",
    "            [4, 9]])\n",
    "\n",
    "ones함수는 '1'로 채운 배열을 만들고 zeros는 '0'으로 채운 배열을 만든다.\n",
    "\n",
    "괄호 안에 입력한 숫자만큼 원소를 만든다. "
   ]
  },
  {
   "cell_type": "code",
   "execution_count": 3,
   "id": "8623d3ee-7041-46df-b9a9-71080d2e517e",
   "metadata": {},
   "outputs": [],
   "source": [
    "# numpy 라이브러리 불러오기\n",
    "import numpy as np\n",
    "# numpy로 2차원 데이터 만들기\n",
    "fish_data = np.column_stack((total_length, total_weight))\n",
    "#타겟 데이터 만들기\n",
    "fish_target = np.concatenate((np.ones(35), np.zeros(14)))"
   ]
  },
  {
   "cell_type": "markdown",
   "id": "f27056b1-0d11-466b-8d7e-665879293f83",
   "metadata": {},
   "source": [
    "## 훈련 세트와 테스트 세트 나누기"
   ]
  },
  {
   "cell_type": "markdown",
   "id": "26463cd7-735f-42a8-8aff-f1baf8261ae7",
   "metadata": {},
   "source": [
    "train_test_split 함수는 sklearn 패키지 중 model_selection에 있다.\n",
    "\n",
    "불러오는 방법은 아래와 같다"
   ]
  },
  {
   "cell_type": "code",
   "execution_count": 4,
   "id": "731b0901-1ee5-4a23-86c8-e54d347c932a",
   "metadata": {},
   "outputs": [],
   "source": [
    "# train data set과 test data set 나누는 모듈 불러오기\n",
    "from sklearn.model_selection import train_test_split"
   ]
  },
  {
   "cell_type": "markdown",
   "id": "008bfae3-9ff1-4340-9309-2fe55c5d9fd9",
   "metadata": {},
   "source": [
    "그 다음 훈련 데이터와 테스트 데이터 변수명을 순서대로 써주면 끝이다.\n",
    "\n",
    "정말 간단하다. 방법은 다음과 같다."
   ]
  },
  {
   "cell_type": "code",
   "execution_count": 5,
   "id": "2b906b4f-fa4d-4892-bef9-c9659d65bb04",
   "metadata": {},
   "outputs": [],
   "source": [
    "# train data와 test data 나누기\n",
    "\n",
    "train_input, test_input, train_target, test_target = train_test_split(fish_data, fish_target, random_state=42)"
   ]
  },
  {
   "cell_type": "markdown",
   "id": "8ac71fc8-39e4-4231-9343-07709b65c0be",
   "metadata": {},
   "source": [
    "식을 보면 알 수 있듯이 처음에 입력 데이터를 먼저 적어주고\n",
    "\n",
    "그 다음 타겟 데이터를 입력해주는 식이다.\n",
    "\n",
    "만약 훈련 데이터와 테스트 데이터를 나눌 때 \n",
    "\n",
    "테스트 데이터 안에 있는 종류(클래스)의 비율대로 나누고 싶으면\n",
    "\n",
    "매개변수 'stratify'에 타깃 데이터를 입력만 해주면 된다."
   ]
  },
  {
   "cell_type": "code",
   "execution_count": 6,
   "id": "a40df31f-f04b-404d-8c7c-4f4373e0e31a",
   "metadata": {},
   "outputs": [],
   "source": [
    "# train data와 test data 나누기\n",
    "\n",
    "train_input, test_input, train_target, test_target = train_test_split(fish_data, fish_target, stratify = fish_target,random_state=42)"
   ]
  },
  {
   "cell_type": "markdown",
   "id": "3a0fcb06-f093-43e0-9fa4-b91e33594a2d",
   "metadata": {},
   "source": [
    "https://m.blog.naver.com/psycomaniac/222397835157"
   ]
  },
  {
   "cell_type": "code",
   "execution_count": null,
   "id": "cf8aff7c-bded-4bad-b08b-b6973ee57ead",
   "metadata": {},
   "outputs": [],
   "source": []
  }
 ],
 "metadata": {
  "kernelspec": {
   "display_name": "Python 3 (ipykernel)",
   "language": "python",
   "name": "python3"
  },
  "language_info": {
   "codemirror_mode": {
    "name": "ipython",
    "version": 3
   },
   "file_extension": ".py",
   "mimetype": "text/x-python",
   "name": "python",
   "nbconvert_exporter": "python",
   "pygments_lexer": "ipython3",
   "version": "3.9.7"
  }
 },
 "nbformat": 4,
 "nbformat_minor": 5
}
